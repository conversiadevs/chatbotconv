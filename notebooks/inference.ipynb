{
 "cells": [
  {
   "cell_type": "code",
   "execution_count": 10,
   "metadata": {},
   "outputs": [
    {
     "data": {
      "text/plain": [
       "torch.Size([1680, 768])"
      ]
     },
     "execution_count": 10,
     "metadata": {},
     "output_type": "execute_result"
    }
   ],
   "source": [
    "import sys\n",
    "import os\n",
    "import torch\n",
    "import numpy as np \n",
    "import pandas as pd\n",
    "\n",
    "device = \"cuda\" if torch.cuda.is_available() else \"cpu\"\n",
    "sys.path.append(os.path.abspath(\"..\"))\n",
    "\n",
    "# Import texts and embedding df\n",
    "text_chunks_and_embedding_df = pd.read_csv(\"../combined_text_chunks_and_embeddings_df.csv\")\n",
    "\n",
    "# Convert embedding column back to np.array (it got converted to string when it got saved to CSV)\n",
    "text_chunks_and_embedding_df[\"embedding\"] = text_chunks_and_embedding_df[\"embedding\"].apply(lambda x: np.fromstring(x.strip(\"[]\"), sep=\" \"))\n",
    "\n",
    "# Convert texts and embedding df to list of dicts\n",
    "pages_and_chunks = text_chunks_and_embedding_df.to_dict(orient=\"records\")\n",
    "\n",
    "# Convert embeddings to torch tensor and send to device (note: NumPy arrays are float64, torch tensors are float32 by default)\n",
    "embeddings = torch.tensor(np.array(text_chunks_and_embedding_df[\"embedding\"].tolist()), dtype=torch.float32).to(device)\n",
    "embeddings.shape"
   ]
  },
  {
   "cell_type": "code",
   "execution_count": 11,
   "metadata": {},
   "outputs": [
    {
     "data": {
      "text/html": [
       "<div>\n",
       "<style scoped>\n",
       "    .dataframe tbody tr th:only-of-type {\n",
       "        vertical-align: middle;\n",
       "    }\n",
       "\n",
       "    .dataframe tbody tr th {\n",
       "        vertical-align: top;\n",
       "    }\n",
       "\n",
       "    .dataframe thead th {\n",
       "        text-align: right;\n",
       "    }\n",
       "</style>\n",
       "<table border=\"1\" class=\"dataframe\">\n",
       "  <thead>\n",
       "    <tr style=\"text-align: right;\">\n",
       "      <th></th>\n",
       "      <th>page_number</th>\n",
       "      <th>sentence_chunk</th>\n",
       "      <th>chunk_char_count</th>\n",
       "      <th>chunk_word_count</th>\n",
       "      <th>chunk_token_count</th>\n",
       "      <th>embedding</th>\n",
       "    </tr>\n",
       "  </thead>\n",
       "  <tbody>\n",
       "    <tr>\n",
       "      <th>0</th>\n",
       "      <td>-39</td>\n",
       "      <td>Human Nutrition: 2020 Edition UNIVERSITY OF HA...</td>\n",
       "      <td>308</td>\n",
       "      <td>42</td>\n",
       "      <td>77.00</td>\n",
       "      <td>[0.0674242675, 0.0902281404, -0.00509548886, -...</td>\n",
       "    </tr>\n",
       "    <tr>\n",
       "      <th>1</th>\n",
       "      <td>-38</td>\n",
       "      <td>Human Nutrition: 2020 Edition by University of...</td>\n",
       "      <td>210</td>\n",
       "      <td>30</td>\n",
       "      <td>52.50</td>\n",
       "      <td>[0.0552156419, 0.0592139773, -0.0166167244, -0...</td>\n",
       "    </tr>\n",
       "    <tr>\n",
       "      <th>2</th>\n",
       "      <td>-37</td>\n",
       "      <td>Contents Preface University of Hawai‘i at Māno...</td>\n",
       "      <td>766</td>\n",
       "      <td>114</td>\n",
       "      <td>191.50</td>\n",
       "      <td>[0.0279801842, 0.0339813754, -0.020642668, 0.0...</td>\n",
       "    </tr>\n",
       "    <tr>\n",
       "      <th>3</th>\n",
       "      <td>-36</td>\n",
       "      <td>Lifestyles and Nutrition University of Hawai‘i...</td>\n",
       "      <td>941</td>\n",
       "      <td>142</td>\n",
       "      <td>235.25</td>\n",
       "      <td>[0.0682566911, 0.0381275006, -0.00846854132, -...</td>\n",
       "    </tr>\n",
       "    <tr>\n",
       "      <th>4</th>\n",
       "      <td>-35</td>\n",
       "      <td>The Cardiovascular System University of Hawai‘...</td>\n",
       "      <td>998</td>\n",
       "      <td>152</td>\n",
       "      <td>249.50</td>\n",
       "      <td>[0.0330264494, -0.0084976349, 0.00957159605, -...</td>\n",
       "    </tr>\n",
       "  </tbody>\n",
       "</table>\n",
       "</div>"
      ],
      "text/plain": [
       "   page_number                                     sentence_chunk  \\\n",
       "0          -39  Human Nutrition: 2020 Edition UNIVERSITY OF HA...   \n",
       "1          -38  Human Nutrition: 2020 Edition by University of...   \n",
       "2          -37  Contents Preface University of Hawai‘i at Māno...   \n",
       "3          -36  Lifestyles and Nutrition University of Hawai‘i...   \n",
       "4          -35  The Cardiovascular System University of Hawai‘...   \n",
       "\n",
       "   chunk_char_count  chunk_word_count  chunk_token_count  \\\n",
       "0               308                42              77.00   \n",
       "1               210                30              52.50   \n",
       "2               766               114             191.50   \n",
       "3               941               142             235.25   \n",
       "4               998               152             249.50   \n",
       "\n",
       "                                           embedding  \n",
       "0  [0.0674242675, 0.0902281404, -0.00509548886, -...  \n",
       "1  [0.0552156419, 0.0592139773, -0.0166167244, -0...  \n",
       "2  [0.0279801842, 0.0339813754, -0.020642668, 0.0...  \n",
       "3  [0.0682566911, 0.0381275006, -0.00846854132, -...  \n",
       "4  [0.0330264494, -0.0084976349, 0.00957159605, -...  "
      ]
     },
     "execution_count": 11,
     "metadata": {},
     "output_type": "execute_result"
    }
   ],
   "source": [
    "text_chunks_and_embedding_df.head()"
   ]
  },
  {
   "cell_type": "code",
   "execution_count": 4,
   "metadata": {},
   "outputs": [
    {
     "name": "stderr",
     "output_type": "stream",
     "text": [
      "c:\\Users\\Manav\\Desktop\\conv-ai\\venv\\lib\\site-packages\\tqdm\\auto.py:21: TqdmWarning: IProgress not found. Please update jupyter and ipywidgets. See https://ipywidgets.readthedocs.io/en/stable/user_install.html\n",
      "  from .autonotebook import tqdm as notebook_tqdm\n"
     ]
    }
   ],
   "source": [
    "from sentence_transformers import util, SentenceTransformer\n",
    "\n",
    "embedding_model = SentenceTransformer(model_name_or_path=\"all-mpnet-base-v2\", \n",
    "                                      device=device) # choose the device to load the model to"
   ]
  },
  {
   "cell_type": "code",
   "execution_count": 12,
   "metadata": {},
   "outputs": [
    {
     "name": "stdout",
     "output_type": "stream",
     "text": [
      "Query: macronutrients functions\n",
      "Time take to get scores on 1680 embeddings: 0.00251 seconds.\n"
     ]
    },
    {
     "data": {
      "text/plain": [
       "torch.return_types.topk(\n",
       "values=tensor([0.6926, 0.6738, 0.6646, 0.6536, 0.6473]),\n",
       "indices=tensor([42, 47, 41, 51, 46]))"
      ]
     },
     "execution_count": 12,
     "metadata": {},
     "output_type": "execute_result"
    }
   ],
   "source": [
    "# 1. Define the query\n",
    "query = \"macronutrients functions\"\n",
    "print(f\"Query: {query}\")\n",
    "\n",
    "# 2. Embed the query to the same numerical space as the text examples \n",
    "# Note: It's important to embed your query with the same model you embedded your examples with.\n",
    "query_embedding = embedding_model.encode(query, convert_to_tensor=True)\n",
    "\n",
    "# 3. Get similarity scores with the dot product \n",
    "from time import perf_counter as timer\n",
    "\n",
    "start_time = timer()\n",
    "dot_scores = util.dot_score(a=query_embedding, b=embeddings)[0]\n",
    "end_time = timer()\n",
    "\n",
    "print(f\"Time take to get scores on {len(embeddings)} embeddings: {end_time-start_time:.5f} seconds.\")\n",
    "\n",
    "# 4. Get the top-k results\n",
    "top_results_dot_product = torch.topk(dot_scores, k=5)\n",
    "top_results_dot_product"
   ]
  },
  {
   "cell_type": "code",
   "execution_count": 13,
   "metadata": {},
   "outputs": [],
   "source": [
    "# Define helper function to print wrapped text \n",
    "import textwrap\n",
    "\n",
    "def print_wrapped(text, wrap_length=80):\n",
    "    wrapped_text = textwrap.fill(text, wrap_length)\n",
    "    print(wrapped_text)"
   ]
  },
  {
   "cell_type": "code",
   "execution_count": 14,
   "metadata": {},
   "outputs": [
    {
     "name": "stdout",
     "output_type": "stream",
     "text": [
      "Query: 'macronutrients functions'\n",
      "\n",
      "Results:\n",
      "Score: 0.6926\n",
      "Text:\n",
      "Macronutrients Nutrients that are needed in large amounts are called\n",
      "macronutrients. There are three classes of macronutrients: carbohydrates,\n",
      "lipids, and proteins. These can be metabolically processed into cellular energy.\n",
      "The energy from macronutrients comes from their chemical bonds. This chemical\n",
      "energy is converted into cellular energy that is then utilized to perform work,\n",
      "allowing our bodies to conduct their basic functions. A unit of measurement of\n",
      "food energy is the calorie. On nutrition food labels the amount given for\n",
      "“calories” is actually equivalent to each calorie multiplied by one thousand. A\n",
      "kilocalorie (one thousand calories, denoted with a small “c”) is synonymous with\n",
      "the “Calorie” (with a capital “C”) on nutrition food labels. Water is also a\n",
      "macronutrient in the sense that you require a large amount of it, but unlike the\n",
      "other macronutrients, it does not yield calories. Carbohydrates Carbohydrates\n",
      "are molecules composed of carbon, hydrogen, and oxygen.\n",
      "Page number: 5\n",
      "\n",
      "\n",
      "Score: 0.6738\n",
      "Text:\n",
      "Water There is one other nutrient that we must have in large quantities: water.\n",
      "Water does not contain carbon, but is composed of two hydrogens and one oxygen\n",
      "per molecule of water. More than 60 percent of your total body weight is water.\n",
      "Without it, nothing could be transported in or out of the body, chemical\n",
      "reactions would not occur, organs would not be cushioned, and body temperature\n",
      "would fluctuate widely. On average, an adult consumes just over two liters of\n",
      "water per day from food and drink combined. Since water is so critical for\n",
      "life’s basic processes, the amount of water input and output is supremely\n",
      "important, a topic we will explore in detail in Chapter 4. Micronutrients\n",
      "Micronutrients are nutrients required by the body in lesser amounts, but are\n",
      "still essential for carrying out bodily functions. Micronutrients include all\n",
      "the essential minerals and vitamins. There are sixteen essential minerals and\n",
      "thirteen vitamins (See Table 1.1 “Minerals and Their Major Functions” and Table\n",
      "1.2 “Vitamins and Their Major Functions” for a complete list and their major\n",
      "functions). In contrast to carbohydrates, lipids, and proteins, micronutrients\n",
      "are not sources of energy (calories), but they assist in the process as\n",
      "cofactors or components of enzymes (i.e., coenzymes).\n",
      "Page number: 8\n",
      "\n",
      "\n",
      "Score: 0.6646\n",
      "Text:\n",
      "Learning Objectives By the end of this chapter, you will be able to: • Describe\n",
      "basic concepts in nutrition • Describe factors that affect your nutritional\n",
      "needs • Describe the importance of research and scientific methods to\n",
      "understanding nutrition What are Nutrients? The foods we eat contain nutrients.\n",
      "Nutrients are substances required by the body to perform its basic functions.\n",
      "Nutrients must be obtained from our diet, since the human body does not\n",
      "synthesize or produce them. Nutrients have one or more of three basic functions:\n",
      "they provide energy, contribute to body structure, and/or regulate chemical\n",
      "processes in the body. These basic functions allow us to detect and respond to\n",
      "environmental surroundings, move, excrete wastes, respire (breathe), grow, and\n",
      "reproduce. There are six classes of nutrients required for the body to function\n",
      "and maintain overall health. These are carbohydrates, lipids, proteins, water,\n",
      "vitamins, and minerals. Foods also contain non-nutrients that may be harmful\n",
      "(such as natural toxins common in plant foods and additives like some dyes and\n",
      "preservatives) or beneficial (such as antioxidants). 4 | Introduction\n",
      "Page number: 4\n",
      "\n",
      "\n",
      "Score: 0.6536\n",
      "Text:\n",
      "Vitamins Major Functions Water-soluble Thiamin (B1) Coenzyme, energy metabolism\n",
      "assistance Riboflavin (B2 ) Coenzyme, energy metabolism assistance Niacin (B3)\n",
      "Coenzyme, energy metabolism assistance Pantothenic acid (B5) Coenzyme, energy\n",
      "metabolism assistance Pyridoxine (B6) Coenzyme, amino acid synthesis assistance\n",
      "Biotin (B7) Coenzyme, amino acid and fatty acid metabolism Folate (B9) Coenzyme,\n",
      "essential for growth Cobalamin (B12) Coenzyme, red blood cell synthesis C\n",
      "(ascorbic acid) Collagen synthesis, antioxidant Fat-soluble A Vision,\n",
      "reproduction, immune system function D Bone and teeth health maintenance, immune\n",
      "system function E Antioxidant, cell membrane protection K Bone and teeth health\n",
      "maintenance, blood clotting Vitamin deficiencies can cause severe health\n",
      "problems and even death. For example, a deficiency in niacin causes a disease\n",
      "called pellagra, which was common in the early twentieth century in some parts\n",
      "of America. The common signs and symptoms of pellagra are known as the\n",
      "“4D’s—diarrhea, dermatitis, dementia, and death.” Until scientists found out\n",
      "that better diets relieved the signs and symptoms of pellagra, many people with\n",
      "the disease ended up hospitalized in insane asylums awaiting death. Other\n",
      "vitamins were also found to prevent certain disorders and diseases such as\n",
      "scurvy (vitamin C), night blindness vitamin A, and rickets (vitamin D). Table\n",
      "1.3 Functions of Nutrients Introduction | 11\n",
      "Page number: 11\n",
      "\n",
      "\n",
      "Score: 0.6473\n",
      "Text:\n",
      "Figure 1.1 The Macronutrie nts: Carbohydrat es, Lipids, Protein, and Water\n",
      "Proteins Proteins are macromolecules composed of chains of subunits called amino\n",
      "acids. Amino acids are simple subunits composed of carbon, oxygen, hydrogen, and\n",
      "nitrogen. Food sources of proteins include meats, dairy products, seafood, and a\n",
      "variety of different plant- based foods, most notably soy. The word protein\n",
      "comes from a Greek word meaning “of primary importance,” which is an apt\n",
      "description of these macronutrients; they are also known colloquially as the\n",
      "“workhorses” of life. Proteins provide four kilocalories of energy per gram;\n",
      "however providing energy is not protein’s most important function. Proteins\n",
      "provide structure to bones, muscles and skin, and play a role in conducting most\n",
      "of the chemical reactions that take place in the body. Scientists estimate that\n",
      "greater than one-hundred thousand different proteins exist within the human\n",
      "body. The genetic codes in DNA are basically protein recipes that determine the\n",
      "order in which 20 different amino acids are bound together to make thousands of\n",
      "specific proteins. Figure 1.1 The Macronutrients: Carbohydrates, Lipids,\n",
      "Protein, and Water Introduction | 7\n",
      "Page number: 7\n",
      "\n",
      "\n"
     ]
    }
   ],
   "source": [
    "print(f\"Query: '{query}'\\n\")\n",
    "print(\"Results:\")\n",
    "# Loop through zipped together scores and indicies from torch.topk\n",
    "for score, idx in zip(top_results_dot_product[0], top_results_dot_product[1]):\n",
    "    print(f\"Score: {score:.4f}\")\n",
    "    # Print relevant sentence chunk (since the scores are in descending order, the most relevant chunk will be first)\n",
    "    print(\"Text:\")\n",
    "    print_wrapped(pages_and_chunks[idx][\"sentence_chunk\"])\n",
    "    # Print the page number too so we can reference the textbook further (and check the results)\n",
    "    print(f\"Page number: {pages_and_chunks[idx]['page_number']}\")\n",
    "    print(\"\\n\")"
   ]
  },
  {
   "cell_type": "code",
   "execution_count": null,
   "metadata": {},
   "outputs": [],
   "source": []
  }
 ],
 "metadata": {
  "kernelspec": {
   "display_name": "venv",
   "language": "python",
   "name": "python3"
  },
  "language_info": {
   "codemirror_mode": {
    "name": "ipython",
    "version": 3
   },
   "file_extension": ".py",
   "mimetype": "text/x-python",
   "name": "python",
   "nbconvert_exporter": "python",
   "pygments_lexer": "ipython3",
   "version": "3.10.11"
  }
 },
 "nbformat": 4,
 "nbformat_minor": 2
}
